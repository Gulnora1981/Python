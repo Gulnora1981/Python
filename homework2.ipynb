{
 "cells": [
  {
   "cell_type": "markdown",
   "id": "f284546e",
   "metadata": {},
   "source": [
    "## homework 02"
   ]
  },
  {
   "cell_type": "code",
   "execution_count": 2,
   "id": "c6a0d1c2",
   "metadata": {},
   "outputs": [
    {
     "data": {
      "text/plain": [
       "'Matiz'"
      ]
     },
     "execution_count": 2,
     "metadata": {},
     "output_type": "execute_result"
    }
   ],
   "source": [
    "txt = 'MsaatmiazD'\n",
    "txt[::2]\n",
    "\n"
   ]
  },
  {
   "cell_type": "code",
   "execution_count": 4,
   "id": "6b3e0fb8",
   "metadata": {},
   "outputs": [
    {
     "data": {
      "text/plain": [
       "'London'"
      ]
     },
     "execution_count": 4,
     "metadata": {},
     "output_type": "execute_result"
    }
   ],
   "source": [
    "txt = \"I'm John. I am from London\"\n",
    "txt[20:26]"
   ]
  },
  {
   "cell_type": "code",
   "execution_count": 18,
   "id": "95e72030",
   "metadata": {},
   "outputs": [
    {
     "data": {
      "text/plain": [
       "'aronluG'"
      ]
     },
     "execution_count": 18,
     "metadata": {},
     "output_type": "execute_result"
    }
   ],
   "source": [
    "txt = \"Gulnora\"\n",
    "txt[::-1]\n"
   ]
  },
  {
   "cell_type": "code",
   "execution_count": 38,
   "id": "4bdf36df",
   "metadata": {},
   "outputs": [
    {
     "data": {
      "text/plain": [
       "'shaftoli'"
      ]
     },
     "execution_count": 38,
     "metadata": {},
     "output_type": "execute_result"
    }
   ],
   "source": [
    "food1,food2,food3,food4,food5 = 'olma','anor','shaftoli','nok','uzum'\n",
    "\n",
    "food3\n",
    "\n"
   ]
  },
  {
   "cell_type": "code",
   "execution_count": 40,
   "id": "26c6d0f3",
   "metadata": {},
   "outputs": [
    {
     "data": {
      "text/plain": [
       "'25 35'"
      ]
     },
     "execution_count": 40,
     "metadata": {},
     "output_type": "execute_result"
    }
   ],
   "source": [
    "ls = ['25','35']\n",
    "msg = ' '.join(ls)\n",
    "msg"
   ]
  },
  {
   "cell_type": "code",
   "execution_count": 5,
   "id": "ea2d07d1",
   "metadata": {},
   "outputs": [
    {
     "name": "stdout",
     "output_type": "stream",
     "text": [
      "bu polindrom\n"
     ]
    }
   ],
   "source": [
    "def polindrom(word):\n",
    "    if word == word [::-1]:\n",
    "        print('bu polindrom')\n",
    "    else:\n",
    "        print('polindrom emas')\n",
    "\n",
    "polindrom('alla')"
   ]
  },
  {
   "cell_type": "code",
   "execution_count": 19,
   "id": "2f5c7348",
   "metadata": {},
   "outputs": [
    {
     "name": "stdout",
     "output_type": "stream",
     "text": [
      "['Guli', 'Ozoda', 'Bekzod']\n"
     ]
    }
   ],
   "source": [
    "txt = [\"Guli\",'Oydin',\"Ozoda\",'Saxzoda','Bekzod']\n",
    "birinchi= txt[0]\n",
    "orta= txt[2]\n",
    "oxirgi= txt[4]\n",
    "ajratilgan_txt= [birinchi,orta,oxirgi]\n",
    "\n",
    "print(ajratilgan_txt)\n"
   ]
  },
  {
   "cell_type": "code",
   "execution_count": 32,
   "id": "15d708d4",
   "metadata": {},
   "outputs": [
    {
     "name": "stdout",
     "output_type": "stream",
     "text": [
      "bor\n"
     ]
    }
   ],
   "source": [
    "spiska = ['Toshkent','Andijon', 'Moskva','Parij','Ashxabod']\n",
    "\n",
    "if  'Parij' in spiska:\n",
    "    print('bor')\n",
    "else:\n",
    "    print('yoq')      \n",
    "        \n",
    "#print(spiska)\n",
    "\n"
   ]
  },
  {
   "cell_type": "code",
   "execution_count": 33,
   "id": "2b6fe598",
   "metadata": {},
   "outputs": [
    {
     "name": "stdout",
     "output_type": "stream",
     "text": [
      "[10, 20, 30, 40]\n"
     ]
    }
   ],
   "source": [
    "ls = [10,20,30,40]\n",
    "print(ls)"
   ]
  },
  {
   "cell_type": "code",
   "execution_count": 35,
   "id": "6b7defda",
   "metadata": {},
   "outputs": [
    {
     "data": {
      "text/plain": [
       "[10, 20, 30, 40, [50, 60, 70, 80], [50, 60, 70, 80]]"
      ]
     },
     "execution_count": 35,
     "metadata": {},
     "output_type": "execute_result"
    }
   ],
   "source": [
    "ls.append([50,60,70,80])\n",
    "ls"
   ]
  },
  {
   "cell_type": "code",
   "execution_count": 52,
   "id": "b086ef28",
   "metadata": {},
   "outputs": [
    {
     "name": "stdout",
     "output_type": "stream",
     "text": [
      "[60, 20, 30, 40, 50, 10]\n"
     ]
    }
   ],
   "source": [
    "raqamlar=[10,20,30,40,50,60]\n",
    "raqamlar[0],raqamlar[-1]=raqamlar[-1],raqamlar[0]\n",
    "print(raqamlar)"
   ]
  }
 ],
 "metadata": {
  "kernelspec": {
   "display_name": "Python 3",
   "language": "python",
   "name": "python3"
  },
  "language_info": {
   "codemirror_mode": {
    "name": "ipython",
    "version": 3
   },
   "file_extension": ".py",
   "mimetype": "text/x-python",
   "name": "python",
   "nbconvert_exporter": "python",
   "pygments_lexer": "ipython3",
   "version": "3.11.9"
  }
 },
 "nbformat": 4,
 "nbformat_minor": 5
}
